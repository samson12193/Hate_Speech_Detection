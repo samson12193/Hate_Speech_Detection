{
 "cells": [
  {
   "cell_type": "markdown",
   "id": "5a6f73d4-dffa-47ee-83e4-bd5b07a559d8",
   "metadata": {},
   "source": [
    "# Hate Speech Detection using Transformers (Deep Learning)\r\n",
    "\r\n",
    "Problem Statement\r\n",
    "\r\n",
    "The term hate speech is understood as any type of verbal, written or behavioural communication that attacks or uses derogatory or discriminatory language against a person or group based on what they are, in other words, based on their religion, ethnicity, nationality, race, colour, ancestry, sex or another identity factor. In this problem, We will take you through a hate speech detection model with Machine Learning and Python.\r\n",
    "\r\n",
    "Hate Speech Detection is generally a task of sentiment classification. So for training, a model that can classify hate speech from a certain piece of tweet can be achieved by training it on a data that is generally used to classify sentiments. So for the task of hate speech detection model, We will use the Twitter tweets to identify tweets containing  Hate speech.\r\n",
    "\r\n",
    "\r\n",
    "\r\n",
    "\r\n",
    "\r\n",
    "\r\n",
    "\r\n"
   ]
  },
  {
   "cell_type": "code",
   "execution_count": 1,
   "id": "d71404c0-c24a-42b2-a2ed-3dabc06b3450",
   "metadata": {},
   "outputs": [
    {
     "name": "stderr",
     "output_type": "stream",
     "text": [
      "[nltk_data] Downloading package stopwords to\n",
      "[nltk_data]     C:\\Users\\Hp\\AppData\\Roaming\\nltk_data...\n",
      "[nltk_data]   Package stopwords is already up-to-date!\n"
     ]
    }
   ],
   "source": [
    "import pandas as pd\n",
    "import numpy as np\n",
    "import os\n",
    "import pickle\n",
    "from sklearn.preprocessing import LabelEncoder\n",
    "import torch\n",
    "import nltk\n",
    "from nltk.corpus import stopwords\n",
    "import re\n",
    "import string\n",
    "import seaborn as sns\n",
    "import transformers\n",
    "import matplotlib.pyplot as plt\n",
    "\n",
    "import torch.nn as nn\n",
    "import torch.optim as optim\n",
    "\n",
    "from nltk.probability import FreqDist\n",
    "from sklearn.model_selection import train_test_split\n",
    "from transformers import BertModel, BertTokenizer\n",
    "from torch.utils.data import Dataset, DataLoader\n",
    "from torch.utils.data import DataLoader, Dataset\n",
    "\n",
    "from torch import nn, optim\n",
    "from torch.utils.data import Dataset, TensorDataset\n",
    "from wordcloud import WordCloud\n",
    "from nltk.corpus import stopwords\n",
    "nltk.download('stopwords')\n",
    "from nltk.tokenize import word_tokenize\n",
    "from nltk.stem import WordNetLemmatizer\n",
    "\n",
    "from tensorflow.keras.models import Sequential\n",
    "from tensorflow.keras.layers import Embedding, LSTM, Dropout, Dense\n",
    "from tensorflow.keras.optimizers import Adam\n",
    "from tensorflow.keras.preprocessing.text import Tokenizer\n",
    "from tensorflow.keras.preprocessing.sequence import pad_sequences\n",
    "\n",
    "\n",
    "from sklearn.metrics import classification_report\n",
    "from sklearn.feature_extraction.text import CountVectorizer, TfidfVectorizer\n",
    "from sklearn.metrics import accuracy_score, f1_score, precision_score, recall_score, confusion_matrix\n",
    "from termcolor import colored\n",
    "from sklearn.model_selection import StratifiedShuffleSplit\n",
    "\n",
    "from keras.models import Sequential\n",
    "from keras.layers import Dense, Dropout\n",
    "from keras.optimizers import Adam\n",
    "from keras.utils import to_categorical\n",
    "from keras.models import load_model\n",
    "\n",
    "#from transformers import BertTokenizer, TFBertForSequenceClassification, BertConfig\n",
    "from transformers import PreTrainedTokenizerFast\n",
    "from tensorflow.keras.optimizers import Adam\n",
    "import tensorflow as tf\n",
    "\n",
    "import warnings\n",
    "warnings.simplefilter(action='ignore', category=FutureWarning)\n"
   ]
  },
  {
   "cell_type": "markdown",
   "id": "7aa3f935-38c2-4a7a-806e-75664bfd018d",
   "metadata": {},
   "source": [
    "# Initialise file paths.\n",
    " Here, we are going to initialize the file paths in the google drive. These paths will be saved as variables and will house the different folders containing the project code,data files,with subfolders containing models and vectorisers that wil be used for this tas\n",
    "\n",
    "1. General file path for common files, notebook and sub-folder for modelsk"
   ]
  },
  {
   "cell_type": "code",
   "execution_count": 2,
   "id": "14f5ea40-95c0-4123-b4ec-1c4d727b606f",
   "metadata": {},
   "outputs": [
    {
     "name": "stdout",
     "output_type": "stream",
     "text": [
      "List of files:  C:\\Users\\Hp\\Hate_Speech_Detection\n",
      "Train file:  C:\\Users\\Hp\\Hate_Speech_Detection\\train.csv\n",
      "Train 100% file:  C:\\Users\\Hp\\Hate_Speech_Detection\\train_100.csv\n",
      "Train 50% file:  C:\\Users\\Hp\\Hate_Speech_Detection\\train_50.csv\n",
      "Train 25% file:  C:\\Users\\Hp\\Hate_Speech_Detection\\train_25.csv\n",
      "Test file:  C:\\Users\\Hp\\Hate_Speech_Detection\\test.csv\n"
     ]
    }
   ],
   "source": [
    "#this is to initialise and print path for the parent folders after \"MyDrive\",\n",
    "# Define the path to the directory in my Drive\n",
    "MYDRIVE_PATH = r\"C:\\Users\\Hp\\Hate_Speech_Detection\"\n",
    "\n",
    "# List files in the directory\n",
    "print('List of files: ', MYDRIVE_PATH)\n",
    "\n",
    "\n",
    "#initialise and print path containing the train dataset\n",
    "train_file = os.path.join(MYDRIVE_PATH, 'train.csv')\n",
    "print('Train file: ', train_file)\n",
    "\n",
    "train_100_file = os.path.join(MYDRIVE_PATH, 'train_100.csv') #100% file is saved here as train_100.csv\n",
    "print('Train 100% file: ', train_100_file)\n",
    "\n",
    "train_50_file = os.path.join(MYDRIVE_PATH, 'train_50.csv') #50% file is saved here as train_50.csv\n",
    "print('Train 50% file: ', train_50_file)\n",
    "\n",
    "train_25_file = os.path.join(MYDRIVE_PATH, 'train_25.csv') #25% file is saved here as train_25.csv\n",
    "print('Train 25% file: ', train_25_file)\n",
    "\n",
    "#initialise and print path containing the test dataset\n",
    "test_file = os.path.join(MYDRIVE_PATH, 'test.csv')\n",
    "print('Test file: ', test_file)\n"
   ]
  },
  {
   "cell_type": "markdown",
   "id": "2e76041a-725e-42ae-946b-cc1f927ee79f",
   "metadata": {},
   "source": [
    "2. Model_1 File paths"
   ]
  },
  {
   "cell_type": "code",
   "execution_count": 3,
   "id": "fadb6fd1-6959-42d6-9cfb-d15222af64ff",
   "metadata": {},
   "outputs": [
    {
     "name": "stdout",
     "output_type": "stream",
     "text": [
      "Model 1 directory:  C:\\Users\\Hp\\Hate_Speech_Detection\\models\\1\n",
      "Model 1 directory with 100% data:  C:\\Users\\Hp\\Hate_Speech_Detection\\models\\1\\100\n",
      "Output file name using model 1 using 100% of train data:  C:\\Users\\Hp\\Hate_Speech_Detection\\models\\1\\100\\output_test.csv\n",
      "Model 1 directory with 50% data:  C:\\Users\\Hp\\Hate_Speech_Detection\\models\\1\\50\n",
      "Output file name using model 1 using 50% of train data:  C:\\Users\\Hp\\Hate_Speech_Detection\\models\\1\\50\\output_test.csv\n",
      "Model 1 directory with 25% data:  C:\\Users\\Hp\\Hate_Speech_Detection\\models\\1\\25\n",
      "Output file name using model 1 using 25% of train data:  C:\\Users\\Hp\\Hate_Speech_Detection\\models\\1\\25\\output_test.csv\n"
     ]
    }
   ],
   "source": [
    "#Model 1 file directories\n",
    "MODEL_1_DIRECTORY = os.path.join(MYDRIVE_PATH, 'models', '1') # Model 1 parent directory\n",
    "print('Model 1 directory: ', MODEL_1_DIRECTORY)\n",
    "\n",
    "MODEL_1_100_DIRECTORY = os.path.join(MODEL_1_DIRECTORY,'100') # Model 1 trained using 100% of train data directory\n",
    "print('Model 1 directory with 100% data: ', MODEL_1_100_DIRECTORY)\n",
    "\n",
    "model_1_100_output_test_file = os.path.join(MODEL_1_100_DIRECTORY, 'output_test.csv') # Output file using Model 1 trained using 100% of train data\n",
    "print('Output file name using model 1 using 100% of train data: ',model_1_100_output_test_file)\n",
    "\n",
    "MODEL_1_50_DIRECTORY = os.path.join(MODEL_1_DIRECTORY,'50') # Model 1 trained using 50% of train data directory\n",
    "print('Model 1 directory with 50% data: ', MODEL_1_50_DIRECTORY)\n",
    "\n",
    "model_1_50_output_test_file = os.path.join(MODEL_1_50_DIRECTORY, 'output_test.csv') # Output file using Model 1 trained using 100% of train data\n",
    "print('Output file name using model 1 using 50% of train data: ',model_1_50_output_test_file)\n",
    "\n",
    "MODEL_1_25_DIRECTORY = os.path.join(MODEL_1_DIRECTORY,'25') # Model 1 trained using 25% of train data directory\n",
    "print('Model 1 directory with 25% data: ', MODEL_1_25_DIRECTORY)\n",
    "\n",
    "model_1_25_output_test_file = os.path.join(MODEL_1_25_DIRECTORY, 'output_test.csv') # Output file using Model 1 trained using 25% of train data\n",
    "print('Output file name using model 1 using 25% of train data: ',model_1_25_output_test_file)\n"
   ]
  },
  {
   "cell_type": "markdown",
   "id": "858f7f19-04db-43e4-8f97-7b9151e8646f",
   "metadata": {},
   "source": [
    "3. MODEL_2 File Paths"
   ]
  },
  {
   "cell_type": "code",
   "execution_count": 4,
   "id": "4a025d4a-8b3a-41eb-a870-d984b0ca8e88",
   "metadata": {},
   "outputs": [
    {
     "name": "stdout",
     "output_type": "stream",
     "text": [
      "Model 2 directory:  C:\\Users\\Hp\\Hate_Speech_Detection\\models\\2\n",
      "Model 2 directory with 100% data:  C:\\Users\\Hp\\Hate_Speech_Detection\\models\\2\\100\n",
      "Output file name using model 2 using 100% of train data:  C:\\Users\\Hp\\Hate_Speech_Detection\\models\\2\\100\\output_test.csv\n",
      "Model 2 directory with 50% data:  C:\\Users\\Hp\\Hate_Speech_Detection\\models\\2\\50\n",
      "Output file name using model 2 using 50% of train data:  C:\\Users\\Hp\\Hate_Speech_Detection\\models\\2\\50\\output_test.csv\n",
      "Model 2 directory with 25% data:  C:\\Users\\Hp\\Hate_Speech_Detection\\models\\2\\25\n",
      "Output file name using model 2 using 25% of train data:  C:\\Users\\Hp\\Hate_Speech_Detection\\models\\2\\25\\output_test.csv\n"
     ]
    }
   ],
   "source": [
    "#Model 2 file directories\n",
    "MODEL_2_DIRECTORY = os.path.join(MYDRIVE_PATH, 'models', '2') # Model 2 parent directory\n",
    "print('Model 2 directory: ', MODEL_2_DIRECTORY)\n",
    "\n",
    "MODEL_2_100_DIRECTORY = os.path.join(MODEL_2_DIRECTORY,'100') # Model 2 trained using 100% of train data directory\n",
    "print('Model 2 directory with 100% data: ', MODEL_2_100_DIRECTORY)\n",
    "\n",
    "model_2_100_output_test_file = os.path.join(MODEL_2_100_DIRECTORY, 'output_test.csv') # Output file using Model 2 trained using 100% of train data\n",
    "print('Output file name using model 2 using 100% of train data: ',model_2_100_output_test_file)\n",
    "\n",
    "MODEL_2_50_DIRECTORY = os.path.join(MODEL_2_DIRECTORY,'50') # Model 2 trained using 100% of train data directory\n",
    "print('Model 2 directory with 50% data: ', MODEL_2_50_DIRECTORY)\n",
    "\n",
    "model_2_50_output_test_file = os.path.join(MODEL_2_50_DIRECTORY, 'output_test.csv') # Output file using Model 2 trained using 100% of train data\n",
    "print('Output file name using model 2 using 50% of train data: ',model_2_50_output_test_file)\n",
    "\n",
    "MODEL_2_25_DIRECTORY = os.path.join(MODEL_2_DIRECTORY,'25') # Model 2 trained using 25% of train data directory\n",
    "print('Model 2 directory with 25% data: ', MODEL_2_25_DIRECTORY)\n",
    "\n",
    "model_2_25_output_test_file = os.path.join(MODEL_2_25_DIRECTORY, 'output_test.csv') # Output file using Model 2 trained using 25% of train data\n",
    "print('Output file name using model 2 using 25% of train data: ',model_2_25_output_test_file)\n"
   ]
  },
  {
   "cell_type": "markdown",
   "id": "5d90541e-28a2-4eb8-a0a3-3ce330ef67fc",
   "metadata": {},
   "source": [
    "# Read datasets"
   ]
  },
  {
   "cell_type": "code",
   "execution_count": 5,
   "id": "6e0f741d-20b6-4ae3-b3f7-12c8d181847e",
   "metadata": {},
   "outputs": [
    {
     "data": {
      "text/html": [
       "<div>\n",
       "<style scoped>\n",
       "    .dataframe tbody tr th:only-of-type {\n",
       "        vertical-align: middle;\n",
       "    }\n",
       "\n",
       "    .dataframe tbody tr th {\n",
       "        vertical-align: top;\n",
       "    }\n",
       "\n",
       "    .dataframe thead th {\n",
       "        text-align: right;\n",
       "    }\n",
       "</style>\n",
       "<table border=\"1\" class=\"dataframe\">\n",
       "  <thead>\n",
       "    <tr style=\"text-align: right;\">\n",
       "      <th></th>\n",
       "      <th>id</th>\n",
       "      <th>label</th>\n",
       "      <th>tweet</th>\n",
       "    </tr>\n",
       "  </thead>\n",
       "  <tbody>\n",
       "    <tr>\n",
       "      <th>0</th>\n",
       "      <td>1</td>\n",
       "      <td>0</td>\n",
       "      <td>@user when a father is dysfunctional and is s...</td>\n",
       "    </tr>\n",
       "    <tr>\n",
       "      <th>1</th>\n",
       "      <td>2</td>\n",
       "      <td>0</td>\n",
       "      <td>@user @user thanks for #lyft credit i can't us...</td>\n",
       "    </tr>\n",
       "    <tr>\n",
       "      <th>2</th>\n",
       "      <td>3</td>\n",
       "      <td>0</td>\n",
       "      <td>bihday your majesty</td>\n",
       "    </tr>\n",
       "    <tr>\n",
       "      <th>3</th>\n",
       "      <td>4</td>\n",
       "      <td>0</td>\n",
       "      <td>#model   i love u take with u all the time in ...</td>\n",
       "    </tr>\n",
       "    <tr>\n",
       "      <th>4</th>\n",
       "      <td>5</td>\n",
       "      <td>0</td>\n",
       "      <td>factsguide: society now    #motivation</td>\n",
       "    </tr>\n",
       "  </tbody>\n",
       "</table>\n",
       "</div>"
      ],
      "text/plain": [
       "   id  label                                              tweet\n",
       "0   1      0   @user when a father is dysfunctional and is s...\n",
       "1   2      0  @user @user thanks for #lyft credit i can't us...\n",
       "2   3      0                                bihday your majesty\n",
       "3   4      0  #model   i love u take with u all the time in ...\n",
       "4   5      0             factsguide: society now    #motivation"
      ]
     },
     "execution_count": 5,
     "metadata": {},
     "output_type": "execute_result"
    }
   ],
   "source": [
    "#load and view train set\n",
    "train_df = pd.read_csv(train_file)\n",
    "train_df.head()"
   ]
  },
  {
   "cell_type": "code",
   "execution_count": 6,
   "id": "1ecef74f-18b7-4f57-b649-f61bb4ab6185",
   "metadata": {},
   "outputs": [
    {
     "data": {
      "text/html": [
       "<div>\n",
       "<style scoped>\n",
       "    .dataframe tbody tr th:only-of-type {\n",
       "        vertical-align: middle;\n",
       "    }\n",
       "\n",
       "    .dataframe tbody tr th {\n",
       "        vertical-align: top;\n",
       "    }\n",
       "\n",
       "    .dataframe thead th {\n",
       "        text-align: right;\n",
       "    }\n",
       "</style>\n",
       "<table border=\"1\" class=\"dataframe\">\n",
       "  <thead>\n",
       "    <tr style=\"text-align: right;\">\n",
       "      <th></th>\n",
       "      <th>id</th>\n",
       "      <th>tweet</th>\n",
       "    </tr>\n",
       "  </thead>\n",
       "  <tbody>\n",
       "    <tr>\n",
       "      <th>0</th>\n",
       "      <td>31963</td>\n",
       "      <td>#studiolife #aislife #requires #passion #dedic...</td>\n",
       "    </tr>\n",
       "    <tr>\n",
       "      <th>1</th>\n",
       "      <td>31964</td>\n",
       "      <td>@user #white #supremacists want everyone to s...</td>\n",
       "    </tr>\n",
       "    <tr>\n",
       "      <th>2</th>\n",
       "      <td>31965</td>\n",
       "      <td>safe ways to heal your #acne!!    #altwaystohe...</td>\n",
       "    </tr>\n",
       "    <tr>\n",
       "      <th>3</th>\n",
       "      <td>31966</td>\n",
       "      <td>is the hp and the cursed child book up for res...</td>\n",
       "    </tr>\n",
       "    <tr>\n",
       "      <th>4</th>\n",
       "      <td>31967</td>\n",
       "      <td>3rd #bihday to my amazing, hilarious #nephew...</td>\n",
       "    </tr>\n",
       "  </tbody>\n",
       "</table>\n",
       "</div>"
      ],
      "text/plain": [
       "      id                                              tweet\n",
       "0  31963  #studiolife #aislife #requires #passion #dedic...\n",
       "1  31964   @user #white #supremacists want everyone to s...\n",
       "2  31965  safe ways to heal your #acne!!    #altwaystohe...\n",
       "3  31966  is the hp and the cursed child book up for res...\n",
       "4  31967    3rd #bihday to my amazing, hilarious #nephew..."
      ]
     },
     "execution_count": 6,
     "metadata": {},
     "output_type": "execute_result"
    }
   ],
   "source": [
    "#load and view test set\n",
    "test_df = pd.read_csv(test_file)\n",
    "test_df.head()"
   ]
  },
  {
   "cell_type": "markdown",
   "id": "a7b9137f-efa0-4951-8b07-d5509b6e0c56",
   "metadata": {},
   "source": [
    "# Data Statistics"
   ]
  },
  {
   "cell_type": "code",
   "execution_count": 7,
   "id": "8b5789a6-f08d-4664-a063-9bf0da4df8a4",
   "metadata": {},
   "outputs": [
    {
     "name": "stdout",
     "output_type": "stream",
     "text": [
      "the train set contains 31962 tweets and 2 unique labels\n",
      "the test set contains 17197 tweets and no unique labels\n"
     ]
    }
   ],
   "source": [
    "#check dimension of the data sets\n",
    "print('the train set contains',train_df.shape[0],'tweets and',train_df['label'].nunique(),'unique labels')\n",
    "print('the test set contains',test_df.shape[0],'tweets and', 'no label')"
   ]
  },
  {
   "cell_type": "code",
   "execution_count": 8,
   "id": "48604f62-c27b-4383-9001-5d6863ab4a92",
   "metadata": {},
   "outputs": [],
   "source": [
    "# function to create labeled countplot\n",
    "def perc_countplot(data, feature, perc=False, n=None):\n",
    "    total = len(data[feature])  # length of the column\n",
    "    count = data[feature].nunique()\n",
    "    if n is None:\n",
    "        plt.figure(figsize=(count + 1, 5))\n",
    "    else:\n",
    "        plt.figure(figsize=(n + 1, 5))\n",
    "\n",
    "\n",
    "    ax = sns.countplot(\n",
    "        data=data,\n",
    "        x=feature,\n",
    "        palette=\"Paired\",\n",
    "        order=data[feature].value_counts().index[:n].sort_values(),\n",
    "    )\n",
    "\n",
    "    for p in ax.patches:\n",
    "        if perc == True:\n",
    "            label = \"{:.1f}%\".format(\n",
    "                100 * p.get_height() / total\n",
    "            )  # percentage of each class of the category\n",
    "        else:\n",
    "            label = p.get_height()  # count of each level of the category\n",
    "\n",
    "        x = p.get_x() + p.get_width() / 2  # width of the plot\n",
    "        y = p.get_height()  # height of the plot\n",
    "\n",
    "        ax.annotate(\n",
    "            label,\n",
    "            (x, y),\n",
    "            ha=\"center\",\n",
    "            va=\"center\",\n",
    "            size=12,\n",
    "            xytext=(0, 5),\n",
    "            textcoords=\"offset points\",\n",
    "        )  # annotate the percentage\n",
    "\n",
    "    plt.show()  # show the plot"
   ]
  },
  {
   "cell_type": "code",
   "execution_count": 9,
   "id": "62e230c8-3892-431b-b754-fde59baca839",
   "metadata": {},
   "outputs": [
    {
     "data": {
      "image/png": "[encoded data removed]",
      "text/plain": [
       "<Figure size 300x500 with 1 Axes>"
      ]
     },
     "metadata": {},
     "output_type": "display_data"
    },
    {
     "name": "stdout",
     "output_type": "stream",
     "text": [
      "None\n"
     ]
    }
   ],
   "source": [
    "#apply function to view percentage distribution of label class in train set\n",
    "print(perc_countplot(train_df,'label',perc = True,n= None))"
   ]
  },
  {
   "cell_type": "markdown",
   "id": "36613e01-3f65-4dab-a5c5-1e4bd813aa1c",
   "metadata": {},
   "source": [
    "From the plots above, we can see that the label variable's distribution is (93% : 7%) for train dataset. However the train dataset is highly imbalanced with respect to the target variable distribution."
   ]
  },
  {
   "cell_type": "markdown",
   "id": "1bcbca3b-09d0-47f5-8c4f-661a482f3cb4",
   "metadata": {},
   "source": [
    "# Data Cleaning"
   ]
  },
  {
   "cell_type": "code",
   "execution_count": 10,
   "id": "9c2dcbd5-e0ab-4cc3-bb63-04521ed9e60c",
   "metadata": {},
   "outputs": [
    {
     "name": "stdout",
     "output_type": "stream",
     "text": [
      "Top 20 words in the training set:\n",
      "[('day', 2813), ('love', 2774), ('u', 1693), ('happy', 1691), ('life', 1235), ('time', 1234), ('im', 1157), ('like', 1088), ('today', 1086), ('get', 1000)]\n",
      "Top 20 words in the testing set:\n",
      "[('love', 1513), ('day', 1457), ('happy', 939), ('u', 906), ('time', 673), ('life', 631), ('im', 610), ('today', 584), ('new', 558), ('get', 536)]\n",
      "Number of unique words for train: 37175\n",
      "Number of unique words for test: 24990\n"
     ]
    }
   ],
   "source": [
    "# Function to clean data\n",
    "def clean(data):\n",
    "    punctuations = string.punctuation\n",
    "\n",
    "    data.loc[:, 'tweet'] = data['tweet'].str.replace('@USER', '', regex=False)  # Remove mentions (@USER)\n",
    "    data.loc[:, 'tweet'] = data['tweet'].str.replace('URL', '', regex=False)  # Remove URLs\n",
    "    data.loc[:, 'tweet'] = data['tweet'].str.replace('&amp', 'and', regex=False)  # Replace ampersand (&) with and\n",
    "    data.loc[:, 'tweet'] = data['tweet'].str.replace('&lt', '', regex=False)  # Remove &lt\n",
    "    data.loc[:, 'tweet'] = data['tweet'].str.replace('&gt', '', regex=False)  # Remove &gt\n",
    "    data.loc[:, 'tweet'] = data['tweet'].str.replace(r'\\d+', '', regex=True)  # Remove numbers\n",
    "    data.loc[:, 'tweet'] = data['tweet'].str.lower()  # Lowercase\n",
    "    data.loc[:, 'tweet'] = data['tweet'].str.replace(r'\\buser\\b', '', regex=True)  # Remove the word 'user'\n",
    "\n",
    "    # Remove punctuations\n",
    "    for punctuation in punctuations:\n",
    "        data.loc[:, 'tweet'] = data['tweet'].str.replace(punctuation, '', regex=False)\n",
    "\n",
    "    data.loc[:, 'tweet'] = data['tweet'].astype(str).apply(\n",
    "        lambda x: x.encode('ascii', 'ignore').decode('ascii')\n",
    "    )  # Remove emojis\n",
    "    data.loc[:, 'tweet'] = data['tweet'].str.strip()  # Trim leading and trailing whitespaces\n",
    "\n",
    "    stop_words = set(stopwords.words('english'))\n",
    "    lemmatizer = WordNetLemmatizer()\n",
    "\n",
    "    def tokenize_and_lemmatize(text):\n",
    "        tokens = word_tokenize(text)  # Tokenize the text\n",
    "        tokens = [word for word in tokens if word not in stop_words]  # Remove stop words\n",
    "        tokens = [lemmatizer.lemmatize(word) for word in tokens]  # Lemmatize the tokens\n",
    "        return tokens\n",
    "\n",
    "    data['cleaned_tweet'] = data['tweet'].apply(tokenize_and_lemmatize)\n",
    "    return data\n",
    "\n",
    "# Clean the tweets\n",
    "train_df = clean(train_df)\n",
    "test_df = clean(test_df)\n",
    "\n",
    "# Transforming cleaned data into a flat list\n",
    "flat_filtered_train = [item for sublist in train_df['cleaned_tweet'] for item in sublist]\n",
    "flat_filtered_test = [item for sublist in test_df['cleaned_tweet'] for item in sublist]\n",
    "\n",
    "# Getting frequency distribution\n",
    "clean_corpus_freqdist_train = FreqDist(flat_filtered_train)\n",
    "clean_corpus_freqdist_test = FreqDist(flat_filtered_test)\n",
    "\n",
    "# Top 20 words in cleaned corpus\n",
    "print(\"Top 20 words in the training set:\")\n",
    "print(clean_corpus_freqdist_train.most_common(10))\n",
    "\n",
    "print(\"Top 20 words in the testing set:\")\n",
    "print(clean_corpus_freqdist_test.most_common(10))\n",
    "\n",
    "# Getting count of all unique words in the corpus\n",
    "total_vocab_train = set(flat_filtered_train)\n",
    "total_vocab_test = set(flat_filtered_test)\n",
    "\n",
    "print(f\"Number of unique words for train: {len(total_vocab_train)}\")\n",
    "print(f\"Number of unique words for test: {len(total_vocab_test)}\")\n"
   ]
  },
  {
   "cell_type": "code",
   "execution_count": 11,
   "id": "eaa1096c-19a7-4962-a7cf-11437412894f",
   "metadata": {},
   "outputs": [],
   "source": [
    "#drop id column in all data sets as this will not be useful in modelling\n",
    "clean_train_df= train_df.drop(columns='id')\n",
    "clean_test_df = test_df.drop(columns='id')"
   ]
  },
  {
   "cell_type": "code",
   "execution_count": 12,
   "id": "b75363f3-2b3d-4b10-a582-d493729074ce",
   "metadata": {},
   "outputs": [
    {
     "data": {
      "text/html": [
       "<div>\n",
       "<style scoped>\n",
       "    .dataframe tbody tr th:only-of-type {\n",
       "        vertical-align: middle;\n",
       "    }\n",
       "\n",
       "    .dataframe tbody tr th {\n",
       "        vertical-align: top;\n",
       "    }\n",
       "\n",
       "    .dataframe thead th {\n",
       "        text-align: right;\n",
       "    }\n",
       "</style>\n",
       "<table border=\"1\" class=\"dataframe\">\n",
       "  <thead>\n",
       "    <tr style=\"text-align: right;\">\n",
       "      <th></th>\n",
       "      <th>label</th>\n",
       "      <th>tweet</th>\n",
       "      <th>cleaned_tweet</th>\n",
       "    </tr>\n",
       "  </thead>\n",
       "  <tbody>\n",
       "    <tr>\n",
       "      <th>0</th>\n",
       "      <td>0</td>\n",
       "      <td>when a father is dysfunctional and is so selfi...</td>\n",
       "      <td>[father, dysfunctional, selfish, drag, kid, dy...</td>\n",
       "    </tr>\n",
       "    <tr>\n",
       "      <th>1</th>\n",
       "      <td>0</td>\n",
       "      <td>thanks for lyft credit i cant use cause they d...</td>\n",
       "      <td>[thanks, lyft, credit, cant, use, cause, dont,...</td>\n",
       "    </tr>\n",
       "    <tr>\n",
       "      <th>2</th>\n",
       "      <td>0</td>\n",
       "      <td>bihday your majesty</td>\n",
       "      <td>[bihday, majesty]</td>\n",
       "    </tr>\n",
       "    <tr>\n",
       "      <th>3</th>\n",
       "      <td>0</td>\n",
       "      <td>model   i love u take with u all the time in ur</td>\n",
       "      <td>[model, love, u, take, u, time, ur]</td>\n",
       "    </tr>\n",
       "    <tr>\n",
       "      <th>4</th>\n",
       "      <td>0</td>\n",
       "      <td>factsguide society now    motivation</td>\n",
       "      <td>[factsguide, society, motivation]</td>\n",
       "    </tr>\n",
       "  </tbody>\n",
       "</table>\n",
       "</div>"
      ],
      "text/plain": [
       "   label                                              tweet  \\\n",
       "0      0  when a father is dysfunctional and is so selfi...   \n",
       "1      0  thanks for lyft credit i cant use cause they d...   \n",
       "2      0                                bihday your majesty   \n",
       "3      0    model   i love u take with u all the time in ur   \n",
       "4      0               factsguide society now    motivation   \n",
       "\n",
       "                                       cleaned_tweet  \n",
       "0  [father, dysfunctional, selfish, drag, kid, dy...  \n",
       "1  [thanks, lyft, credit, cant, use, cause, dont,...  \n",
       "2                                  [bihday, majesty]  \n",
       "3                [model, love, u, take, u, time, ur]  \n",
       "4                  [factsguide, society, motivation]  "
      ]
     },
     "execution_count": 12,
     "metadata": {},
     "output_type": "execute_result"
    }
   ],
   "source": [
    "#view train_set again\n",
    "clean_train_df.head()"
   ]
  },
  {
   "cell_type": "code",
   "execution_count": 13,
   "id": "7278e509-8a50-4d95-95df-3a58c5f4865e",
   "metadata": {},
   "outputs": [
    {
     "data": {
      "text/html": [
       "<div>\n",
       "<style scoped>\n",
       "    .dataframe tbody tr th:only-of-type {\n",
       "        vertical-align: middle;\n",
       "    }\n",
       "\n",
       "    .dataframe tbody tr th {\n",
       "        vertical-align: top;\n",
       "    }\n",
       "\n",
       "    .dataframe thead th {\n",
       "        text-align: right;\n",
       "    }\n",
       "</style>\n",
       "<table border=\"1\" class=\"dataframe\">\n",
       "  <thead>\n",
       "    <tr style=\"text-align: right;\">\n",
       "      <th></th>\n",
       "      <th>tweet</th>\n",
       "      <th>cleaned_tweet</th>\n",
       "    </tr>\n",
       "  </thead>\n",
       "  <tbody>\n",
       "    <tr>\n",
       "      <th>0</th>\n",
       "      <td>studiolife aislife requires passion dedication...</td>\n",
       "      <td>[studiolife, aislife, requires, passion, dedic...</td>\n",
       "    </tr>\n",
       "    <tr>\n",
       "      <th>1</th>\n",
       "      <td>white supremacists want everyone to see the ne...</td>\n",
       "      <td>[white, supremacist, want, everyone, see, new,...</td>\n",
       "    </tr>\n",
       "    <tr>\n",
       "      <th>2</th>\n",
       "      <td>safe ways to heal your acne    altwaystoheal h...</td>\n",
       "      <td>[safe, way, heal, acne, altwaystoheal, healthy...</td>\n",
       "    </tr>\n",
       "    <tr>\n",
       "      <th>3</th>\n",
       "      <td>is the hp and the cursed child book up for res...</td>\n",
       "      <td>[hp, cursed, child, book, reservation, already...</td>\n",
       "    </tr>\n",
       "    <tr>\n",
       "      <th>4</th>\n",
       "      <td>rd bihday to my amazing hilarious nephew eli a...</td>\n",
       "      <td>[rd, bihday, amazing, hilarious, nephew, eli, ...</td>\n",
       "    </tr>\n",
       "  </tbody>\n",
       "</table>\n",
       "</div>"
      ],
      "text/plain": [
       "                                               tweet  \\\n",
       "0  studiolife aislife requires passion dedication...   \n",
       "1  white supremacists want everyone to see the ne...   \n",
       "2  safe ways to heal your acne    altwaystoheal h...   \n",
       "3  is the hp and the cursed child book up for res...   \n",
       "4  rd bihday to my amazing hilarious nephew eli a...   \n",
       "\n",
       "                                       cleaned_tweet  \n",
       "0  [studiolife, aislife, requires, passion, dedic...  \n",
       "1  [white, supremacist, want, everyone, see, new,...  \n",
       "2  [safe, way, heal, acne, altwaystoheal, healthy...  \n",
       "3  [hp, cursed, child, book, reservation, already...  \n",
       "4  [rd, bihday, amazing, hilarious, nephew, eli, ...  "
      ]
     },
     "execution_count": 13,
     "metadata": {},
     "output_type": "execute_result"
    }
   ],
   "source": [
    "#view test set again\n",
    "clean_test_df.head()"
   ]
  },
  {
   "cell_type": "markdown",
   "id": "334cf4ad-b03b-421f-b43f-e1c8f8dd80c1",
   "metadata": {},
   "source": [
    "# Define performance metrics for model evaluation"
   ]
  },
  {
   "cell_type": "code",
   "execution_count": 14,
   "id": "2711e997-11b0-4201-8b4a-afde6aaee018",
   "metadata": {},
   "outputs": [],
   "source": [
    "# Compute performance metrics function\n",
    "def compute_performance(y_true, y_pred, split='test'):\n",
    "    print('Computing different performance metrics on', split, 'set of Dataset')\n",
    "    f1score = f1_score(y_true, y_pred, average='macro')\n",
    "    acc = accuracy_score(y_true, y_pred)\n",
    "\n",
    "    print('F1 Score(macro): ', f1score)\n",
    "    print('Accuracy: ', acc)\n",
    "\n",
    "    cmatrix = confusion_matrix(y_true, y_pred)\n",
    "    labels = np.asarray(\n",
    "        [[\"{0:0.0f}\".format(item) + \"\\n{0:.2%}\".format(item / cmatrix.flatten().sum())]\n",
    "         for item in cmatrix.flatten()]\n",
    "    ).reshape(2, 2)\n",
    "\n",
    "    # Set the title of the plot based on the input split\n",
    "    plt.figure(figsize=(5, 3))\n",
    "    sns.heatmap(cmatrix, annot= labels, fmt=\"\",cbar = False)\n",
    "    plt.ylabel(\"Actual Values\")\n",
    "    plt.xlabel(\"Predicted Values\")\n",
    "    if split == 'train':\n",
    "        plt.title(\"Confusion Matrix on train set\")\n",
    "    else:\n",
    "         plt.title(\"Confusion Matrix on test set\")\n",
    "\n",
    "    return f1score\n"
   ]
  },
  {
   "cell_type": "markdown",
   "id": "b7c3bc1e-78fd-4bb6-b24b-df649d1d2061",
   "metadata": {},
   "source": [
    "# Training LSTM Model "
   ]
  },
  {
   "cell_type": "code",
   "execution_count": 89,
   "id": "592315a2-a469-4547-b34c-d2ec68d9ca3f",
   "metadata": {},
   "outputs": [
    {
     "name": "stdout",
     "output_type": "stream",
     "text": [
      "Data Size: 25%\n",
      "Epoch 1/5\n"
     ]
    },
    {
     "name": "stderr",
     "output_type": "stream",
     "text": [
      "C:\\Users\\Hp\\anaconda3\\Lib\\site-packages\\keras\\src\\layers\\core\\embedding.py:90: UserWarning: Argument `input_length` is deprecated. Just remove it.\n",
      "  warnings.warn(\n"
     ]
    },
    {
     "name": "stdout",
     "output_type": "stream",
     "text": [
      "\u001b[1m160/160\u001b[0m \u001b[32m━━━━━━━━━━━━━━━━━━━━\u001b[0m\u001b[37m\u001b[0m \u001b[1m67s\u001b[0m 316ms/step - accuracy: 0.9105 - loss: 0.3299 - val_accuracy: 0.9328 - val_loss: 0.2461\n",
      "Epoch 2/5\n",
      "\u001b[1m160/160\u001b[0m \u001b[32m━━━━━━━━━━━━━━━━━━━━\u001b[0m\u001b[37m\u001b[0m \u001b[1m48s\u001b[0m 300ms/step - accuracy: 0.9276 - loss: 0.2498 - val_accuracy: 0.9570 - val_loss: 0.1450\n",
      "Epoch 3/5\n",
      "\u001b[1m160/160\u001b[0m \u001b[32m━━━━━━━━━━━━━━━━━━━━\u001b[0m\u001b[37m\u001b[0m \u001b[1m49s\u001b[0m 306ms/step - accuracy: 0.9784 - loss: 0.0707 - val_accuracy: 0.9539 - val_loss: 0.1470\n",
      "Epoch 4/5\n",
      "\u001b[1m160/160\u001b[0m \u001b[32m━━━━━━━━━━━━━━━━━━━━\u001b[0m\u001b[37m\u001b[0m \u001b[1m48s\u001b[0m 299ms/step - accuracy: 0.9926 - loss: 0.0352 - val_accuracy: 0.9500 - val_loss: 0.2044\n",
      "Epoch 5/5\n",
      "\u001b[1m160/160\u001b[0m \u001b[32m━━━━━━━━━━━━━━━━━━━━\u001b[0m\u001b[37m\u001b[0m \u001b[1m47s\u001b[0m 296ms/step - accuracy: 0.9967 - loss: 0.0144 - val_accuracy: 0.9453 - val_loss: 0.2569\n",
      "\u001b[1m200/200\u001b[0m \u001b[32m━━━━━━━━━━━━━━━━━━━━\u001b[0m\u001b[37m\u001b[0m \u001b[1m26s\u001b[0m 126ms/step\n"
     ]
    },
    {
     "name": "stderr",
     "output_type": "stream",
     "text": [
      "WARNING:absl:You are saving your model as an HDF5 file via `model.save()` or `keras.saving.save_model(model)`. This file format is considered legacy. We recommend using instead the native Keras format, e.g. `model.save('my_model.keras')` or `keras.saving.save_model(model, 'my_model.keras')`. \n"
     ]
    },
    {
     "name": "stdout",
     "output_type": "stream",
     "text": [
      "Computing different performance metrics on train set of Dataset\n",
      "F1 Score(macro):  0.9545706055139382\n",
      "Accuracy:  0.9882665832290363\n"
     ]
    },
    {
     "data": {
      "image/png": "[encoded data removed]",
      "text/plain": [
       "<Figure size 500x300 with 1 Axes>"
      ]
     },
     "metadata": {},
     "output_type": "display_data"
    }
   ],
   "source": [
    "# Training function using LSTM\n",
    "def train_method1(clean_train_df, model_dir, max_words=10000, max_len=100, embedding_dim=128):\n",
    "    \"\"\"\n",
    "    Trains an LSTM model on the dataset.\n",
    "    Saves the best model in the specified model directory.\n",
    "\n",
    "    Args:\n",
    "        train_df: DataFrame containing the training dataset.\n",
    "        model_dir: Path to the model directory where the best model will be saved.\n",
    "        max_words: Maximum number of words to keep based on word frequency.\n",
    "        max_len: Maximum length of all sequences.\n",
    "        embedding_dim: Dimension of the embedding vectors.\n",
    "    \"\"\"\n",
    "\n",
    "    # Tokenize the text data\n",
    "    tokenizer = Tokenizer(num_words=max_words)\n",
    "    tokenizer.fit_on_texts(clean_train_df['tweet'])\n",
    "    X_train = tokenizer.texts_to_sequences(clean_train_df['tweet'])\n",
    "    X_train = pad_sequences(X_train, maxlen=max_len)\n",
    "    y_train = clean_train_df['label']\n",
    "\n",
    "    # Define the LSTM model\n",
    "    model = Sequential()\n",
    "    model.add(Embedding(input_dim=max_words, output_dim=embedding_dim, input_length=max_len))\n",
    "    model.add(LSTM(128, return_sequences=True))\n",
    "    model.add(Dropout(0.5))\n",
    "    model.add(LSTM(128))\n",
    "    model.add(Dropout(0.5))\n",
    "    model.add(Dense(1, activation='sigmoid'))\n",
    "\n",
    "    model.compile(optimizer=Adam(learning_rate=0.001), loss='binary_crossentropy', metrics=['accuracy'])\n",
    "\n",
    "    # Train the model\n",
    "    model.fit(X_train, y_train, epochs=5, batch_size=32, validation_split=0.2)\n",
    "\n",
    "    # Evaluate the model on the training data\n",
    "    y_pred = (model.predict(X_train) > 0.5).astype(\"int32\")\n",
    "\n",
    "    # Compute performance metrics and plot the confusion matrix\n",
    "    compute_performance(y_train, y_pred, split='train')\n",
    "\n",
    "    # Save the best model to the specified model directory\n",
    "    os.makedirs(model_dir, exist_ok=True)\n",
    "    model_file = os.path.join(model_dir, 'lstm_model.h5')\n",
    "    model.save(model_file)\n",
    "\n",
    "    # Save the Tokenizer used to convert text to numerical features\n",
    "    tokenizer_file = os.path.join(model_dir, 'tokenizer.pkl')\n",
    "    with open(tokenizer_file, 'wb') as f:\n",
    "        pickle.dump(tokenizer, f)\n",
    "\n",
    "# Function to train and evaluate on multiple splits\n",
    "def train_and_evaluate_splits(train_dfs, model_directory):\n",
    "    for i, train_split_df in enumerate(train_dfs):\n",
    "        print(f'Data Size: {int(train_sizes[i] * 100)}%')\n",
    "        model_dir = os.path.join(model_directory, str(int(train_sizes[i] * 100)))\n",
    "        train_method1(train_split_df, model_dir)\n",
    "\n",
    "# Define the split sizes\n",
    "train_sizes = [0.25]\n",
    "train_dfs = []\n",
    "\n",
    "# Define the stratified splitter\n",
    "splitter = StratifiedShuffleSplit(n_splits=len(train_sizes), test_size=0.2, random_state=42)\n",
    "\n",
    "# Split the data using the splitter\n",
    "for size in train_sizes:\n",
    "    train_idx, _ = next(splitter.split(clean_train_df, clean_train_df[\"label\"]))\n",
    "    train_split_df = clean_train_df.iloc[train_idx].sample(frac=size)\n",
    "    train_dfs.append(train_split_df)\n",
    "\n",
    "# Train and evaluate splits\n",
    "train_and_evaluate_splits(train_dfs, MODEL_1_DIRECTORY)\n"
   ]
  },
  {
   "cell_type": "markdown",
   "id": "8f1164e1-2157-400a-9964-d03a57a037af",
   "metadata": {},
   "source": [
    "# Testing LSTM Model"
   ]
  },
  {
   "cell_type": "code",
   "execution_count": 91,
   "id": "558e248f-d23e-49e7-bc3d-ec84326c558d",
   "metadata": {},
   "outputs": [
    {
     "name": "stderr",
     "output_type": "stream",
     "text": [
      "WARNING:absl:Compiled the loaded model, but the compiled metrics have yet to be built. `model.compile_metrics` will be empty until you train or evaluate the model.\n"
     ]
    },
    {
     "name": "stdout",
     "output_type": "stream",
     "text": [
      "\u001b[1m538/538\u001b[0m \u001b[32m━━━━━━━━━━━━━━━━━━━━\u001b[0m\u001b[37m\u001b[0m \u001b[1m62s\u001b[0m 114ms/step\n",
      "                                                   tweet  \\\n",
      "0      studiolife aislife requires passion dedication...   \n",
      "1      white supremacists want everyone to see the ne...   \n",
      "2      safe ways to heal your acne    altwaystoheal h...   \n",
      "3      is the hp and the cursed child book up for res...   \n",
      "4      rd bihday to my amazing hilarious nephew eli a...   \n",
      "...                                                  ...   \n",
      "17192  thought factory leftright polarisation trump u...   \n",
      "17193  feeling like a mermaid  hairflip neverready fo...   \n",
      "17194  hillary campaigned today in ohioomg and used w...   \n",
      "17195  happy at work conference right mindset leads t...   \n",
      "17196  my   song so glad free download  shoegaze newm...   \n",
      "\n",
      "                                           cleaned_tweet  predicted_label  \n",
      "0      [studiolife, aislife, requires, passion, dedic...                0  \n",
      "1      [white, supremacist, want, everyone, see, new,...                0  \n",
      "2      [safe, way, heal, acne, altwaystoheal, healthy...                0  \n",
      "3      [hp, cursed, child, book, reservation, already...                0  \n",
      "4      [rd, bihday, amazing, hilarious, nephew, eli, ...                0  \n",
      "...                                                  ...              ...  \n",
      "17192  [thought, factory, leftright, polarisation, tr...                1  \n",
      "17193  [feeling, like, mermaid, hairflip, neverready,...                0  \n",
      "17194  [hillary, campaigned, today, ohioomg, used, wo...                0  \n",
      "17195  [happy, work, conference, right, mindset, lead...                0  \n",
      "17196  [song, glad, free, download, shoegaze, newmusi...                0  \n",
      "\n",
      "[17197 rows x 3 columns]\n"
     ]
    }
   ],
   "source": [
    "# Function to test the model and add predicted labels to the test DataFrame\n",
    "def test_model(clean_test_df, model_file, tokenizer_file, max_len=100):\n",
    "    \"\"\"\n",
    "    Tests the LSTM model on the test dataset.\n",
    "    Adds the predicted labels to the test DataFrame and displays it.\n",
    "\n",
    "    Args:\n",
    "        test_df: DataFrame containing the test dataset.\n",
    "        model_file: Path to the saved model file.\n",
    "        tokenizer_file: Path to the saved tokenizer file.\n",
    "        max_len: Maximum length of all sequences.\n",
    "    \"\"\"\n",
    "\n",
    "    # Load the saved model and tokenizer\n",
    "    model = load_model(model_file)\n",
    "\n",
    "    # Compile the model to avoid the warning\n",
    "    model.compile(optimizer='adam', loss='binary_crossentropy', metrics=['accuracy'])\n",
    "\n",
    "    with open(tokenizer_file, 'rb') as f:\n",
    "        tokenizer = pickle.load(f)\n",
    "\n",
    "    # Preprocess the test data\n",
    "    X_test = tokenizer.texts_to_sequences(clean_test_df['tweet'])\n",
    "    X_test = pad_sequences(X_test, maxlen=max_len)\n",
    "\n",
    "    # Predict the labels\n",
    "    y_pred_prob = model.predict(X_test)\n",
    "    y_pred = (y_pred_prob > 0.5).astype(\"int32\").flatten()\n",
    "\n",
    "    # Add the predicted labels to the test DataFrame\n",
    "    clean_test_df['predicted_label'] = y_pred\n",
    "\n",
    "    return clean_test_df\n",
    "\n",
    "# Define the model and tokenizer file paths\n",
    "model_file = os.path.join(MODEL_1_DIRECTORY, '25', 'lstm_model.h5')\n",
    "tokenizer_file = os.path.join(MODEL_1_DIRECTORY,'25', 'tokenizer.pkl')\n",
    "\n",
    "# Test the model and display the test DataFrame with predicted labels\n",
    "test_df_with_predictions = test_model(clean_test_df, model_file, tokenizer_file)\n",
    "print(test_df_with_predictions)\n"
   ]
  },
  {
   "cell_type": "markdown",
   "id": "6d4af0f6-65ae-4563-b531-4d0bf7f57fa8",
   "metadata": {},
   "source": [
    "# Training NanoGPT Model"
   ]
  },
  {
   "cell_type": "code",
   "execution_count": null,
   "id": "1c9b619f-c818-4c1c-abff-2b34b91d8910",
   "metadata": {},
   "outputs": [
    {
     "name": "stdout",
     "output_type": "stream",
     "text": [
      "WARNING:tensorflow:From C:\\Users\\Hp\\anaconda3\\Lib\\site-packages\\tf_keras\\src\\losses.py:2976: The name tf.losses.sparse_softmax_cross_entropy is deprecated. Please use tf.compat.v1.losses.sparse_softmax_cross_entropy instead.\n",
      "\n",
      "WARNING:tensorflow:From C:\\Users\\Hp\\anaconda3\\Lib\\site-packages\\tf_keras\\src\\backend.py:873: The name tf.get_default_graph is deprecated. Please use tf.compat.v1.get_default_graph instead.\n",
      "\n"
     ]
    },
    {
     "name": "stderr",
     "output_type": "stream",
     "text": [
      "All PyTorch model weights were used when initializing TFGPT2LMHeadModel.\n",
      "\n",
      "All the weights of TFGPT2LMHeadModel were initialized from the PyTorch model.\n",
      "If your task is similar to the task the model of the checkpoint was trained on, you can already use TFGPT2LMHeadModel for predictions without further training.\n"
     ]
    }
   ],
   "source": [
    "from transformers import GPT2Tokenizer, TFGPT2LMHeadModel\n",
    "import tensorflow as tf\n",
    "from sklearn.model_selection import StratifiedShuffleSplit\n",
    "\n",
    "# Define the split sizes\n",
    "train_sizes = [0.25]\n",
    "train_dfs = []\n",
    "\n",
    "# Define the stratified splitter\n",
    "splitter = StratifiedShuffleSplit(n_splits=len(train_sizes), test_size=0.2, random_state=42)\n",
    "\n",
    "# Split the data using the splitter\n",
    "for size in train_sizes:\n",
    "    train_idx, _ = next(splitter.split(clean_train_df, clean_train_df[\"label\"]))\n",
    "    train_split_df = clean_train_df.iloc[train_idx].sample(frac=size)\n",
    "    train_dfs.append(train_split_df)\n",
    "\n",
    "# Define the train_model function\n",
    "def train_model(train_inputs, tokenizer, model_dir):\n",
    "    model = TFGPT2LMHeadModel.from_pretrained('gpt2')\n",
    "    \n",
    "    optimizer = tf.keras.optimizers.Adam(learning_rate=5e-5)\n",
    "    loss = tf.keras.losses.SparseCategoricalCrossentropy(from_logits=True)\n",
    "    \n",
    "    # Example training loop\n",
    "    for epoch in range(3):  # Number of epochs\n",
    "        for step, inputs in enumerate(train_inputs):\n",
    "            with tf.GradientTape() as tape:\n",
    "                outputs = model(inputs)\n",
    "                logits = outputs.logits\n",
    "                flat_target = tf.reshape(inputs, (-1,))\n",
    "                flat_logits = tf.reshape(logits, (-1, logits.shape[-1]))\n",
    "                loss_value = loss(flat_target, flat_logits)\n",
    "            grads = tape.gradient(loss_value, model.trainable_variables)\n",
    "            optimizer.apply_gradients(zip(grads, model.trainable_variables))\n",
    "    \n",
    "    # Save the model\n",
    "    model.save_pretrained(model_dir)\n",
    "\n",
    "# Main function\n",
    "def main():\n",
    "    # Specify your model directory\n",
    "    model_dir = MODEL_2_DIRECTORY\n",
    "    \n",
    "    # Initialize tokenizer\n",
    "    tokenizer = GPT2Tokenizer.from_pretrained(\"gpt2\")\n",
    "    tokenizer.pad_token = tokenizer.eos_token\n",
    "    \n",
    "    # Iterate over train_dfs and train the model on each split\n",
    "    for idx, train_df in enumerate(train_dfs):\n",
    "        # Extract preprocessed text data\n",
    "        dataset = clean_train_df['tweet'].tolist()  # Assuming 'tweet' is the column with preprocessed text\n",
    "        \n",
    "        # Tokenize the dataset\n",
    "        train_inputs = tokenizer(dataset, return_tensors=\"tf\", padding=True, truncation=True)\n",
    "        \n",
    "        # Train the model\n",
    "        train_model(train_inputs['input_ids'], tokenizer, f\"{model_dir}/split_{idx}\")\n",
    "\n",
    "if __name__ == \"__main__\":\n",
    "    main()\n"
   ]
  },
  {
   "cell_type": "markdown",
   "id": "11084984-721b-4e54-a8f8-8578c2e495a0",
   "metadata": {},
   "source": [
    "# Testing NanoGPT Model"
   ]
  },
  {
   "cell_type": "code",
   "execution_count": null,
   "id": "a204ee36-a394-4267-b5f6-2bc6482d4471",
   "metadata": {},
   "outputs": [],
   "source": [
    "from keras.models import load_model\n",
    "from keras.preprocessing.sequence import pad_sequences\n",
    "\n",
    "def test_model(clean_test_df, model_file, tokenizer_file, max_len=100):\n",
    "    # Load the saved model and tokenizer\n",
    "    model = load_model(model_file)\n",
    "    with open(tokenizer_file, 'rb') as f:\n",
    "        tokenizer = pickle.load(f)\n",
    "\n",
    "    # Tokenize the text data\n",
    "    X_test = tokenizer.texts_to_sequences(clean_test_df['tweet'])\n",
    "    X_test = pad_sequences(X_test, maxlen=max_len)\n",
    "\n",
    "    # Make predictions\n",
    "    y_pred = (model.predict(X_test) > 0.5).astype(\"int32\")\n",
    "    clean_test_df['predicted_label'] = y_pred\n",
    "\n",
    "    return clean_test_df\n",
    "\n",
    "# Specify the directories and files\n",
    "model_file = os.path.join(MODEL_2_DIRECTORY, '25', 'lstm_model.h5')\n",
    "TOKENIZER_FILE = os.path.join(MODEL_2_DIRECTORY,'25', 'tokenizer.pkl')\n",
    "\n",
    "# Test the model and display the test DataFrame with predicted labels\n",
    "test_df_with_predictions = test_model(clean_test_df, MODEL_FILE, TOKENIZER_FILE)\n",
    "print(test_df_with_predictions)\n"
   ]
  },
  {
   "cell_type": "code",
   "execution_count": null,
   "id": "29d70b26-8155-4797-81ae-703b2bfa23b0",
   "metadata": {},
   "outputs": [],
   "source": []
  }
 ],
 "metadata": {
  "kernelspec": {
   "display_name": "Python 3 (ipykernel)",
   "language": "python",
   "name": "python3"
  },
  "language_info": {
   "codemirror_mode": {
    "name": "ipython",
    "version": 3
   },
   "file_extension": ".py",
   "mimetype": "text/x-python",
   "name": "python",
   "nbconvert_exporter": "python",
   "pygments_lexer": "ipython3",
   "version": "3.11.7"
  }
 },
 "nbformat": 4,
 "nbformat_minor": 5
}
